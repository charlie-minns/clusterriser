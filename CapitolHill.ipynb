{
 "cells": [
  {
   "cell_type": "code",
   "execution_count": null,
   "metadata": {},
   "outputs": [],
   "source": [
    "# import modules\n",
    "import numpy as np\n",
    "import matplotlib.pyplot as plt\n",
    "import hdbscan\n",
    "import scarlet"
   ]
  },
  {
   "cell_type": "code",
   "execution_count": null,
   "metadata": {},
   "outputs": [],
   "source": [
    "# load in data\n",
    "data_ = np.load(\"Data/CapitolHill.npy\")\n",
    "channels, n = data_.shape\n",
    "nx = int(np.sqrt(n))\n",
    "ny = nx\n",
    "data = np.moveaxis(data_, 0, -1).reshape(-1, channels)\n",
    "\n",
    "# normalize the data\n",
    "background = np.sqrt(np.mean(data, axis=0))\n",
    "norm_data = data.astype('float') - background\n",
    "norm_data /= (np.maximum(background, norm_data.sum(axis=1)[:, None]))\n",
    "\n",
    "# put data in form for HDBSCAN\n",
    "x, y = np.meshgrid(0.01*np.arange(nx), 0.01*np.arange(ny))\n",
    "arrays = [x.flatten(), y.flatten()]\n",
    "for i in range(channels):\n",
    "    arrays.append(norm_data[:, i])\n",
    "norm_data = np.stack(arrays, axis=1)"
   ]
  },
  {
   "cell_type": "code",
   "execution_count": null,
   "metadata": {},
   "outputs": [],
   "source": [
    "# convert image to rgb colour coordinates\n",
    "def to_rgb(data, channels=3, standardize=True, norm=None):\n",
    "    channels = np.stack([ c.sum(axis=0) for c in np.array_split(data, channels) ], axis=0)\n",
    "    # make uniform across channels\n",
    "    if standardize:\n",
    "        channels -= channels.mean(axis=(1,2))[:, None, None]\n",
    "        channels /= channels.std(axis=(1,2))[:, None, None]\n",
    "    if norm is None:\n",
    "        norm = scarlet.AsinhPercentileNorm(channels)\n",
    "    return scarlet.img_to_rgb(channels, norm=norm)\n",
    "\n",
    "# plot rgb image of Capitol Hill\n",
    "rgb = to_rgb(data_.reshape(channels, nx, ny))\n",
    "fig = plt.figure()\n",
    "ax = fig.add_subplot(111)\n",
    "ax.imshow(rgb, origin='lower')\n",
    "\n",
    "# label plot\n",
    "ax.set_title(\"Hyperspectral Image of Capitol Hill\")\n",
    "ax.axis('off')"
   ]
  },
  {
   "cell_type": "code",
   "execution_count": null,
   "metadata": {},
   "outputs": [],
   "source": [
    "# get clustering result using HDBSCAN with eom selection\n",
    "eom_clusterer = hdbscan.HDBSCAN(min_cluster_size=11).fit(norm_data)\n",
    "eom_labels = eom_clusterer.labels_.reshape(nx, ny)\n",
    "eom_clusters = np.unique(eom_labels)\n",
    "eom_k = eom_clusters.shape\n",
    "print(\"Number of clusters: \" + str(eom_k))\n",
    "\n",
    "# use mask to plot noise labels as black\n",
    "eom_mask = np.array([[True if (x >= 0) else False for x in eom_labels[i]] for i in range(len(eom_labels))])\n",
    "eom_labels_ma = np.ma.array(eom_labels, mask=~eom_mask)\n",
    "\n",
    "# plot results \n",
    "fig = plt.figure()\n",
    "ax = fig.add_subplot(111)\n",
    "ax.imshow(eom_mask, cmap='gray', origin='lower')\n",
    "ax.imshow(eom_labels_ma, cmap='jet', origin='lower')\n",
    "\n",
    "# label plot\n",
    "ax.set_title(\"'EOM' Clustering Result\")\n",
    "ax.axis('off')"
   ]
  },
  {
   "cell_type": "code",
   "execution_count": null,
   "metadata": {
    "scrolled": true
   },
   "outputs": [],
   "source": [
    "# get clustering result using HDBSCAN with leaf selection\n",
    "leaf_clusterer = hdbscan.HDBSCAN(min_cluster_size=15, cluster_selection_method='leaf').fit(norm_data)\n",
    "leaf_labels = leaf_clusterer.labels_.reshape(nx, ny)\n",
    "leaf_clusters = np.unique(leaf_labels)\n",
    "leaf_k = leaf_clusters.shape\n",
    "print(\"Number of clusters: \" + str(leaf_k))\n",
    "\n",
    "# use mask to plot noise labels as black\n",
    "leaf_mask = np.array([[True if (x >= 0) else False for x in leaf_labels[i]] for i in range(len(leaf_labels))])\n",
    "leaf_labels_ma = np.ma.array(leaf_labels, mask=~leaf_mask)\n",
    "\n",
    "# plot results \n",
    "fig = plt.figure()\n",
    "ax = fig.add_subplot(111)\n",
    "ax.imshow(leaf_mask, cmap='gray', origin='lower')\n",
    "ax.imshow(leaf_labels_ma, cmap='jet', origin='lower')\n",
    "\n",
    "# label plot\n",
    "ax.set_title(\"'Leaf' Clustering Result\")\n",
    "ax.axis('off')"
   ]
  },
  {
   "cell_type": "code",
   "execution_count": null,
   "metadata": {},
   "outputs": [],
   "source": [
    "# plot all three images next to each other for comparison\n",
    "fig = plt.figure()\n",
    "ax_eom = fig.add_subplot(131)\n",
    "ax_or = fig.add_subplot(132)\n",
    "ax_leaf = fig.add_subplot(133)\n",
    "ax_eom.imshow(eom_mask, cmap='gray', origin='lower')\n",
    "ax_eom.imshow(eom_labels_ma, cmap='jet', origin='lower')\n",
    "ax_or.imshow(rgb, origin='lower')\n",
    "ax_leaf.imshow(leaf_mask, cmap='gray', origin='lower')\n",
    "ax_leaf.imshow(leaf_labels_ma, cmap='jet', origin='lower')\n",
    "\n",
    "# label plots\n",
    "ax_eom.set_title(\"'EOM' Clustering Result\")\n",
    "ax_eom.axis('off')\n",
    "ax_or.set_title(\"Hyperspectral Image\\n\")\n",
    "ax_or.axis('off')\n",
    "ax_leaf.set_title(\"'Leaf' Clustering Result\")\n",
    "ax_leaf.axis('off')\n",
    "plt.tight_layout()"
   ]
  },
  {
   "cell_type": "code",
   "execution_count": null,
   "metadata": {},
   "outputs": [],
   "source": []
  }
 ],
 "metadata": {
  "kernelspec": {
   "display_name": "Python 3",
   "language": "python",
   "name": "python3"
  },
  "language_info": {
   "codemirror_mode": {
    "name": "ipython",
    "version": 3
   },
   "file_extension": ".py",
   "mimetype": "text/x-python",
   "name": "python",
   "nbconvert_exporter": "python",
   "pygments_lexer": "ipython3",
   "version": "3.7.5"
  }
 },
 "nbformat": 4,
 "nbformat_minor": 4
}
