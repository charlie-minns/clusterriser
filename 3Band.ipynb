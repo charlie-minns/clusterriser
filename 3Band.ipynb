{
 "cells": [
  {
   "cell_type": "code",
   "execution_count": null,
   "metadata": {},
   "outputs": [],
   "source": [
    "# import modules\n",
    "import numpy as np\n",
    "import matplotlib.pyplot as plt\n",
    "import hdbscan"
   ]
  },
  {
   "cell_type": "code",
   "execution_count": null,
   "metadata": {},
   "outputs": [],
   "source": [
    "# load in the data\n",
    "data = np.load(\"Data/3-band-example.npy\")\n",
    "data = np.moveaxis(data, 0, -1).reshape(-1, 3)\n",
    "\n",
    "# normalise data\n",
    "data_ = data.astype('float')\n",
    "data_ /= data_.sum(axis=1)[:, None]\n",
    "\n",
    "# normalise data, subtracting image background\n",
    "data__ = data.astype('float') - 100\n",
    "data__ /= (np.maximum(10, data__.sum(axis=1)[:, None]))\n",
    "\n",
    "# stack colour information with spatial features\n",
    "x, y = np.meshgrid(0.1*np.arange(51), 0.1*np.arange(51))\n",
    "dataxy = np.stack((x.flatten(), y.flatten(), data__[:, 0], data__[:, 1], data__[:, 2]), axis=1)"
   ]
  },
  {
   "cell_type": "code",
   "execution_count": null,
   "metadata": {},
   "outputs": [],
   "source": [
    "# plot image\n",
    "plt.imshow(data.reshape(51, 51, 3), origin='lower')\n",
    "plt.title(\"3-Band Image\")\n",
    "plt.axis('off')"
   ]
  },
  {
   "cell_type": "code",
   "execution_count": null,
   "metadata": {},
   "outputs": [],
   "source": [
    "# plot normalised data\n",
    "plt.imshow(data_.reshape(51, 51, 3))\n",
    "plt.title(\"Normalised 3-Band Image\")\n",
    "plt.axis('off')"
   ]
  },
  {
   "cell_type": "code",
   "execution_count": null,
   "metadata": {},
   "outputs": [],
   "source": [
    "# plot normalised data with background subtracted\n",
    "plt.imshow(data__.reshape(51, 51, 3))\n",
    "plt.title(\"Normalised 3-Band Image with Reduced Background\")\n",
    "plt.axis('off')"
   ]
  },
  {
   "cell_type": "code",
   "execution_count": null,
   "metadata": {},
   "outputs": [],
   "source": [
    "# cluster data using HDBSCAN\n",
    "clusterer = hdbscan.HDBSCAN(min_cluster_size=20, cluster_selection_method='leaf').fit(dataxy)\n",
    "labels = clusterer.labels_\n",
    "clusters = np.unique(labels)\n",
    "k = clusters.shape\n",
    "print(\"Number of clusters: \" + str(k))\n",
    "\n",
    "# add mask to data\n",
    "mask = np.array([True if (x >= 0) else False for x in labels])\n",
    "labels_ma = np.ma.array(labels, mask=~mask)\n",
    "\n",
    "# plot data\n",
    "plt.imshow(mask.reshape(51, 51), cmap='gray', origin='lower')\n",
    "plt.imshow(labels_ma.reshape(51, 51), cmap='jet', origin='lower')\n",
    "plt.title(\"HDBSCAN Clustering on 3-Band Image\")\n",
    "plt.axis('off')"
   ]
  },
  {
   "cell_type": "code",
   "execution_count": null,
   "metadata": {},
   "outputs": [],
   "source": [
    "# view condensed tree plot for this result\n",
    "clusterer.condensed_tree_.plot(select_clusters=True)"
   ]
  }
 ],
 "metadata": {
  "kernelspec": {
   "display_name": "Python 3",
   "language": "python",
   "name": "python3"
  },
  "language_info": {
   "codemirror_mode": {
    "name": "ipython",
    "version": 3
   },
   "file_extension": ".py",
   "mimetype": "text/x-python",
   "name": "python",
   "nbconvert_exporter": "python",
   "pygments_lexer": "ipython3",
   "version": "3.7.5"
  }
 },
 "nbformat": 4,
 "nbformat_minor": 4
}
