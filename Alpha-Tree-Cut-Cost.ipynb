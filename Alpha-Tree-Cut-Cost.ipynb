{
 "cells": [
  {
   "cell_type": "code",
   "execution_count": null,
   "metadata": {},
   "outputs": [],
   "source": [
    "# load the modules\n",
    "import numpy as np\n",
    "import matplotlib\n",
    "import matplotlib.pyplot as plt\n",
    "import scipy\n",
    "from scipy.sparse.csgraph import minimum_spanning_tree\n",
    "\n",
    "def adjacency(X, alpha):\n",
    "    Gd = (X[None,:,:] - X[:,None,:])**2\n",
    "    return np.sqrt(Gd[:,:,0:2].sum(axis=-1) + alpha*Gd[:,:,2])\n",
    "\n",
    "def cost(X, alpha, perc=95, show_plot=False):\n",
    "    A = adjacency(X, alpha)\n",
    "    T = minimum_spanning_tree(A).toarray()\n",
    "    cut = np.percentile(T[T>0],[perc])[0]\n",
    "    T[T>cut] = 0\n",
    "    \n",
    "    graph = scipy.sparse.csr_matrix(T)\n",
    "    n_components, labels = scipy.sparse.csgraph.connected_components(graph)\n",
    "    intra_dist = []\n",
    "    mean_pos = []\n",
    "    for c in range(1, n_components):\n",
    "        sel = labels == c\n",
    "        if sum(sel) > 1:\n",
    "            mean_pos.append(X[sel].mean(axis=0))\n",
    "            dist_c = A[sel,:][:,sel]\n",
    "            intra_dist.append(dist_c[dist_c>0].mean())\n",
    "    all_mean = A[A>0].mean()\n",
    "    inter_X = np.stack(mean_pos, axis=0)\n",
    "    inter_A = adjacency(inter_X, alpha)\n",
    "    inter_dist = inter_A[inter_A>0].mean()\n",
    "\n",
    "    if show_plot:\n",
    "        fig = plt.figure()\n",
    "        ax = fig.add_subplot(111, aspect='equal')\n",
    "        ax.scatter(X[:,0], X[:,1], c=labels, alpha=0.1, cmap='prism')\n",
    "        i,j = np.where(T>0)\n",
    "        plt.quiver(X[i,0], X[i,1], X[j,0]-X[i,0], X[j,1]-X[i,1], angles='xy', scale_units='xy', scale=1, headwidth=0, headaxislength=0, headlength=0, minlength=0)\n",
    "        fig.tight_layout()\n",
    "\n",
    "    return np.mean(intra_dist) / inter_dist#all_mean"
   ]
  },
  {
   "cell_type": "code",
   "execution_count": null,
   "metadata": {},
   "outputs": [],
   "source": [
    "# load the data\n",
    "data = np.load(\"clusters_zred.npy\")\n",
    "print(m, data.dtype.names)\n",
    "ra0, dec0 = data['RA'].mean(), data['DEC'].mean()\n",
    "X = np.dstack(((ra0-data['RA'])*np.cos(np.radians(data['DEC'])), data['DEC']-dec0, data['ZRED']))[0]  \n",
    "n = len(data)   # number of data points"
   ]
  },
  {
   "cell_type": "code",
   "execution_count": null,
   "metadata": {},
   "outputs": [],
   "source": [
    "cost(X, 1e6, perc=95)"
   ]
  },
  {
   "cell_type": "code",
   "execution_count": null,
   "metadata": {},
   "outputs": [],
   "source": [
    "# creating adjacency matrices for different values of alpha\n",
    "alpha = 1e6\n",
    "A = adjacency(X, alpha)\n",
    "plt.imshow(A)\n",
    "plt.colorbar()"
   ]
  },
  {
   "cell_type": "code",
   "execution_count": null,
   "metadata": {},
   "outputs": [],
   "source": [
    "T = minimum_spanning_tree(A).toarray()\n",
    "perc = 95 # depends on expected rate of outliers\n",
    "cut = np.percentile(T[T>0],[perc])[0]\n",
    "T[T>cut] = 0\n",
    "i,j = np.where(T>0)\n",
    "\n",
    "fig = plt.figure()\n",
    "ax = fig.add_subplot(111, aspect='equal')\n",
    "ax.scatter(X[:,0], X[:,1], alpha=0.1)\n",
    "plt.quiver(X[i,0], X[i,1], X[j,0]-X[i,0], X[j,1]-X[i,1], angles='xy', scale_units='xy', scale=1, headwidth=0, headaxislength=0, headlength=0, minlength=0)\n",
    "fig.tight_layout()"
   ]
  },
  {
   "cell_type": "code",
   "execution_count": null,
   "metadata": {},
   "outputs": [],
   "source": [
    "graph = scipy.sparse.csr_matrix(T)\n",
    "n_components, labels = scipy.sparse.csgraph.connected_components(graph)\n",
    "bc = np.bincount(labels)\n",
    "print (n_components, (bc>1).sum())\n",
    "\n",
    "fig = plt.figure()\n",
    "ax = fig.add_subplot(111, aspect='equal')\n",
    "ax.scatter(X[:,0], X[:,1], c=labels, alpha=0.1, cmap='prism')\n",
    "#plt.quiver(X[i,0], X[i,1], X[j,0]-X[i,0], X[j,1]-X[i,1], angles='xy', scale_units='xy', scale=1, headwidth=0, headaxislength=0, headlength=0, minlength=0)"
   ]
  },
  {
   "cell_type": "code",
   "execution_count": null,
   "metadata": {},
   "outputs": [],
   "source": [
    "alphas = 10.**np.arange(-6,6,1)\n",
    "plt.semilogx(alphas, [cost(X, a, perc=95) for a in alphas])"
   ]
  },
  {
   "cell_type": "markdown",
   "metadata": {},
   "source": [
    "## Clustering likelihood\n",
    "\n",
    "\n",
    "The quantity $\\lVert V V^T - Y Y^T\\rVert^2$ is a quadratic deviation of the predicted cluster labels from the true labels. To avoid ordering issues, the labels generate a one-hot-encoding matrix, which is then symmetrized. One can consider this quadratic deviation the likelihood of the clustering labels given true labels (supervised learning)."
   ]
  },
  {
   "cell_type": "code",
   "execution_count": null,
   "metadata": {},
   "outputs": [],
   "source": [
    "def vvt(v):\n",
    "    return v @ v.T\n",
    "\n",
    "def one_hot_encode(labels):\n",
    "    unique_labels = list(np.unique(labels))\n",
    "    n, m = len(labels), len(unique_labels)\n",
    "    idx = np.zeros((n, m))\n",
    "    for i,l in enumerate(labels):\n",
    "        j = unique_labels.index(l)\n",
    "        idx[i,j] = 1\n",
    "    return idx"
   ]
  },
  {
   "cell_type": "code",
   "execution_count": null,
   "metadata": {},
   "outputs": [],
   "source": [
    "plt.imshow(vvt(one_hot_encode(labels)))"
   ]
  },
  {
   "cell_type": "code",
   "execution_count": null,
   "metadata": {},
   "outputs": [],
   "source": [
    "true_VVT = vvt(one_hot_encode(data['MEM_MATCH_ID']))\n",
    "plt.imshow(true_VVT)"
   ]
  },
  {
   "cell_type": "code",
   "execution_count": null,
   "metadata": {},
   "outputs": [],
   "source": [
    "def cost_vvt(X, alpha, true_VVT, perc=95, show_plot=False):\n",
    "    A = adjacency(X, alpha)\n",
    "    T = minimum_spanning_tree(A).toarray()\n",
    "    cut = np.percentile(T[T>0],[perc])[0]\n",
    "    T[T>cut] = 0\n",
    "    \n",
    "    graph = scipy.sparse.csr_matrix(T)\n",
    "    n_components, labels = scipy.sparse.csgraph.connected_components(graph)\n",
    "\n",
    "    if show_plot:\n",
    "        fig = plt.figure()\n",
    "        ax = fig.add_subplot(111, aspect='equal')\n",
    "        ax.scatter(X[:,0], X[:,1], c=labels, alpha=0.1, cmap='prism')\n",
    "        i,j = np.where(T>0)\n",
    "        plt.quiver(X[i,0], X[i,1], X[j,0]-X[i,0], X[j,1]-X[i,1], angles='xy', scale_units='xy', scale=1, headwidth=0, headaxislength=0, headlength=0, minlength=0)\n",
    "        fig.tight_layout()\n",
    "    \n",
    "    VVT = vvt(one_hot_encode(labels))\n",
    "    return ((VVT - true_VVT)**2).sum()"
   ]
  },
  {
   "cell_type": "code",
   "execution_count": null,
   "metadata": {},
   "outputs": [],
   "source": [
    "alphas = 10.**np.arange(-10,10,2)\n",
    "plt.semilogx(alphas, [cost_vvt(X, a, true_VVT) for a in alphas])"
   ]
  },
  {
   "cell_type": "code",
   "execution_count": null,
   "metadata": {},
   "outputs": [],
   "source": [
    "alphas = 10.**np.arange(-10,10,2)\n",
    "plt.semilogx(alphas, [cost_vvt(X, a, true_VVT, perc=90) for a in alphas])"
   ]
  },
  {
   "cell_type": "code",
   "execution_count": null,
   "metadata": {},
   "outputs": [],
   "source": [
    "alphas = 10.**np.arange(-10,10,2)\n",
    "plt.semilogx(alphas, [cost_vvt(X, a, true_VVT, perc=80) for a in alphas])"
   ]
  }
 ],
 "metadata": {
  "kernelspec": {
   "display_name": "Python 3",
   "language": "python",
   "name": "python3"
  },
  "language_info": {
   "codemirror_mode": {
    "name": "ipython",
    "version": 3
   },
   "file_extension": ".py",
   "mimetype": "text/x-python",
   "name": "python",
   "nbconvert_exporter": "python",
   "pygments_lexer": "ipython3",
   "version": "3.7.4"
  }
 },
 "nbformat": 4,
 "nbformat_minor": 4
}
