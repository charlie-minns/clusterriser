{
 "cells": [
  {
   "cell_type": "code",
   "execution_count": null,
   "metadata": {},
   "outputs": [],
   "source": [
    "# load the modules\n",
    "import numpy as np\n",
    "import matplotlib\n",
    "import matplotlib.pyplot as plt\n",
    "import scipy\n",
    "from scipy.sparse.csgraph import minimum_spanning_tree\n",
    "\n",
    "def adjacency(X, alpha):\n",
    "    Gd = (X[None,:,:] - X[:,None,:])**2\n",
    "    return np.sqrt(Gd[:,:,0:2].sum(axis=-1) + alpha*Gd[:,:,2])\n",
    "\n",
    "def cost(X, alpha, show_plot=False):\n",
    "    A = adjacency(X, alpha)\n",
    "    T = minimum_spanning_tree(A).toarray()\n",
    "    perc = 95 # depends on expected rate of outliers\n",
    "    cut = np.percentile(T[T>0],[perc])[0]\n",
    "    T[T>cut] = 0\n",
    "    \n",
    "    graph = scipy.sparse.csr_matrix(T)\n",
    "    n_components, labels = scipy.sparse.csgraph.connected_components(graph)\n",
    "    intra_dist = []\n",
    "    for c in range(1, n_components):\n",
    "        sel = labels == c\n",
    "        if sum(sel) > 1:\n",
    "            dist_c = A[sel,:][:,sel]\n",
    "            intra_dist.append(dist_c[dist_c>0].mean())\n",
    "    all_mean = A[A>0].mean()\n",
    "\n",
    "    if show_plot:\n",
    "        fig = plt.figure()\n",
    "        ax = fig.add_subplot(111, aspect='equal')\n",
    "        ax.scatter(X[:,0], X[:,1], c=labels, alpha=0.1, cmap='prism')\n",
    "        i,j = np.where(T>0)\n",
    "        plt.quiver(X[i,0], X[i,1], X[j,0]-X[i,0], X[j,1]-X[i,1], angles='xy', scale_units='xy', scale=1, headwidth=0, headaxislength=0, headlength=0, minlength=0)\n",
    "        fig.tight_layout()\n",
    "\n",
    "    return np.mean(intra_dist) / all_mean"
   ]
  },
  {
   "cell_type": "code",
   "execution_count": null,
   "metadata": {},
   "outputs": [],
   "source": [
    "# load the data\n",
    "data = np.load(\"clusters.npy\")\n",
    "ra0, dec0 = data['RA'].mean(), data['DEC'].mean()\n",
    "X = np.dstack(((ra0-data['RA'])*np.cos(np.radians(data['DEC'])), data['DEC']-dec0, data['Z']))[0]  \n",
    "m = len(data)   # number of data points\n",
    "print(m, data.dtype.names)"
   ]
  },
  {
   "cell_type": "code",
   "execution_count": null,
   "metadata": {},
   "outputs": [],
   "source": [
    "# creating adjacency matrices for different values of alpha\n",
    "alpha = 1000\n",
    "A = adjacency(X, alpha)\n",
    "plt.imshow(A)\n",
    "plt.colorbar()"
   ]
  },
  {
   "cell_type": "code",
   "execution_count": null,
   "metadata": {},
   "outputs": [],
   "source": [
    "T = minimum_spanning_tree(A).toarray()\n",
    "perc = 95 # depends on expected rate of outliers\n",
    "cut = np.percentile(T[T>0],[perc])[0]\n",
    "T[T>cut] = 0\n",
    "i,j = np.where(T>0)\n",
    "\n",
    "fig = plt.figure()\n",
    "ax = fig.add_subplot(111, aspect='equal')\n",
    "ax.scatter(X[:,0], X[:,1], alpha=0.1)\n",
    "plt.quiver(X[i,0], X[i,1], X[j,0]-X[i,0], X[j,1]-X[i,1], angles='xy', scale_units='xy', scale=1, headwidth=0, headaxislength=0, headlength=0, minlength=0)\n",
    "fig.tight_layout()"
   ]
  },
  {
   "cell_type": "code",
   "execution_count": null,
   "metadata": {},
   "outputs": [],
   "source": [
    "graph = scipy.sparse.csr_matrix(T)\n",
    "n_components, labels = scipy.sparse.csgraph.connected_components(graph)\n",
    "\n",
    "fig = plt.figure()\n",
    "ax = fig.add_subplot(111, aspect='equal')\n",
    "ax.scatter(X[:,0], X[:,1], c=labels, alpha=0.1, cmap='prism')\n",
    "plt.quiver(X[i,0], X[i,1], X[j,0]-X[i,0], X[j,1]-X[i,1], angles='xy', scale_units='xy', scale=1, headwidth=0, headaxislength=0, headlength=0, minlength=0)\n",
    "fig.tight_layout()"
   ]
  },
  {
   "cell_type": "code",
   "execution_count": null,
   "metadata": {},
   "outputs": [],
   "source": [
    "alphas = 10.**np.arange(-6, 6, 1)\n",
    "plt.semilogx(alphas, [cost(X, a) for a in alphas])"
   ]
  }
 ],
 "metadata": {
  "kernelspec": {
   "display_name": "Python 3",
   "language": "python",
   "name": "python3"
  },
  "language_info": {
   "codemirror_mode": {
    "name": "ipython",
    "version": 3
   },
   "file_extension": ".py",
   "mimetype": "text/x-python",
   "name": "python",
   "nbconvert_exporter": "python",
   "pygments_lexer": "ipython3",
   "version": "3.7.4"
  }
 },
 "nbformat": 4,
 "nbformat_minor": 4
}
