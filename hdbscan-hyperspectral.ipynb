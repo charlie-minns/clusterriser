{
 "cells": [
  {
   "cell_type": "code",
   "execution_count": null,
   "metadata": {},
   "outputs": [],
   "source": [
    "%matplotlib inline\n",
    "import matplotlib.pyplot as plt\n",
    "import hdbscan\n",
    "import numpy as np\n",
    "import scarlet.display"
   ]
  },
  {
   "cell_type": "code",
   "execution_count": null,
   "metadata": {},
   "outputs": [],
   "source": [
    "data = np.load('3-band-example.npy')"
   ]
  },
  {
   "cell_type": "code",
   "execution_count": null,
   "metadata": {},
   "outputs": [],
   "source": [
    "plt.imshow(scarlet.display.img_to_rgb(data))"
   ]
  },
  {
   "cell_type": "code",
   "execution_count": null,
   "metadata": {},
   "outputs": [],
   "source": [
    "data_ = np.moveaxis(data, 0, -1).reshape(-1,3)"
   ]
  },
  {
   "cell_type": "code",
   "execution_count": null,
   "metadata": {},
   "outputs": [],
   "source": [
    "data_.shape"
   ]
  },
  {
   "cell_type": "code",
   "execution_count": null,
   "metadata": {},
   "outputs": [],
   "source": [
    "clusterer = hdbscan.HDBSCAN()\n",
    "clusterer.fit(data_)\n",
    "plt.imshow(clusterer.labels_.reshape(51,51))\n",
    "plt.colorbar()"
   ]
  },
  {
   "cell_type": "code",
   "execution_count": null,
   "metadata": {},
   "outputs": [],
   "source": [
    "data__ = data_.astype('float')\n",
    "data__ /= data__.sum(axis=1)[:,None]\n",
    "plt.imshow(data__.reshape(51,51,3))"
   ]
  },
  {
   "cell_type": "code",
   "execution_count": null,
   "metadata": {},
   "outputs": [],
   "source": [
    "clusterer = hdbscan.HDBSCAN()\n",
    "clusterer.fit(data__)\n",
    "plt.imshow(clusterer.labels_.reshape(51,51))\n",
    "plt.colorbar()"
   ]
  },
  {
   "cell_type": "code",
   "execution_count": null,
   "metadata": {},
   "outputs": [],
   "source": [
    "data___ = data_.astype('float') - 100\n",
    "# data___ /= data___.sum(axis=1)[:,None]\n",
    "data___ /= (np.maximum(10, data___.sum(axis=1)[:,None]))\n",
    "plt.imshow(data___.reshape(51,51,3))"
   ]
  },
  {
   "cell_type": "code",
   "execution_count": null,
   "metadata": {},
   "outputs": [],
   "source": [
    "clusterer = hdbscan.HDBSCAN(min_cluster_size=50, min_samples=5)\n",
    "clusterer.fit(data___)\n",
    "\n",
    "plt.imshow(clusterer.labels_.reshape(51,51))\n",
    "plt.colorbar()"
   ]
  },
  {
   "cell_type": "code",
   "execution_count": null,
   "metadata": {},
   "outputs": [],
   "source": []
  },
  {
   "cell_type": "code",
   "execution_count": null,
   "metadata": {},
   "outputs": [],
   "source": [
    "x,y = np.meshgrid(0.1*np.arange(51), 0.1*np.arange(51))\n",
    "dataxy = np.stack((x.flatten(), y.flatten(), data___[:,0], data___[:,1], data___[:,2]), axis=1)\n",
    "\n",
    "clusterer = hdbscan.HDBSCAN(min_cluster_size=20, cluster_selection_method='leaf')\n",
    "clusterer.fit(dataxy)\n",
    "\n",
    "plt.imshow(clusterer.labels_.reshape(51,51))\n",
    "plt.colorbar()"
   ]
  },
  {
   "cell_type": "markdown",
   "metadata": {},
   "source": [
    "# HSC example: dusty spiral"
   ]
  },
  {
   "cell_type": "code",
   "execution_count": null,
   "metadata": {},
   "outputs": [],
   "source": [
    "data = np.load('43160598803906841.npz')\n",
    "img = data['images']\n",
    "norm = scarlet.display.AsinhPercentileNorm(img, percentiles=[0,96])\n",
    "plt.imshow(scarlet.display.img_to_rgb(img, norm=norm))"
   ]
  },
  {
   "cell_type": "code",
   "execution_count": null,
   "metadata": {},
   "outputs": [],
   "source": [
    "C, Ny, Nx = img.shape\n",
    "data_ = np.moveaxis(img, 0, -1).reshape(-1,5)\n",
    "#data_ -= data_.min(axis=0)[None,:]\n",
    "intensity = data_.sum(axis=1)\n",
    "data__ = data_ / np.maximum(0.01, intensity[:,None])\n",
    "x,y = np.meshgrid(np.arange(Nx), np.arange(Ny))\n",
    "factor = 0.1\n",
    "dataxy = np.stack((factor * x.flatten(), factor * y.flatten(), data__[:,0], data__[:,1], data__[:,2]), axis=1)\n",
    "# dataxy /= dataxy.std(axis=0)[None,:]\n",
    "plt.imshow(data__[:,1:4].reshape(Ny, Nx, 3))"
   ]
  },
  {
   "cell_type": "code",
   "execution_count": null,
   "metadata": {},
   "outputs": [],
   "source": [
    "clusterer = hdbscan.HDBSCAN(min_cluster_size=20, cluster_selection_method='leaf')\n",
    "clusterer.fit(dataxy)\n",
    "\n",
    "plt.imshow(clusterer.labels_.reshape(Ny, Nx), cmap='tab20')\n",
    "plt.colorbar()\n",
    "plt.figure()\n",
    "plt.imshow(scarlet.display.img_to_rgb(img, norm=norm))"
   ]
  },
  {
   "cell_type": "code",
   "execution_count": null,
   "metadata": {},
   "outputs": [],
   "source": [
    "clusterer.condensed_tree_.plot(select_clusters=True)"
   ]
  },
  {
   "cell_type": "code",
   "execution_count": null,
   "metadata": {},
   "outputs": [],
   "source": []
  }
 ],
 "metadata": {
  "kernelspec": {
   "display_name": "Python 3",
   "language": "python",
   "name": "python3"
  },
  "language_info": {
   "codemirror_mode": {
    "name": "ipython",
    "version": 3
   },
   "file_extension": ".py",
   "mimetype": "text/x-python",
   "name": "python",
   "nbconvert_exporter": "python",
   "pygments_lexer": "ipython3",
   "version": "3.7.4"
  }
 },
 "nbformat": 4,
 "nbformat_minor": 4
}
